{
 "cells": [
  {
   "cell_type": "heading",
   "metadata": {
    "collapsed": true
   },
   "level": 1,
   "source": [
    "Uploads market data snapshot to Dynamo DB\n"
   ]
  },
  {
   "cell_type": "code",
   "execution_count": 3,
   "metadata": {
    "collapsed": false
   },
   "outputs": [],
   "source": [
    "from utils import data\n"
   ]
  },
  {
   "cell_type": "code",
   "execution_count": 5,
   "metadata": {
    "collapsed": false
   },
   "outputs": [
    {
     "data": {
      "text/plain": [
       "{'ResponseMetadata': {'HTTPHeaders': {'connection': 'keep-alive',\n   'content-length': '2',\n   'content-type': 'application/x-amz-json-1.0',\n   'date': 'Mon, 10 Dec 2018 08:09:17 GMT',\n   'server': 'Server',\n   'x-amz-crc32': '2745614147',\n   'x-amzn-requestid': 'KFM4URTMHM8HVJ5JTQS3AMC71BVV4KQNSO5AEMVJF66Q9ASUAAJG'},\n  'HTTPStatusCode': 200,\n  'RequestId': 'KFM4URTMHM8HVJ5JTQS3AMC71BVV4KQNSO5AEMVJF66Q9ASUAAJG',\n  'RetryAttempts': 0}}"
      ]
     },
     "execution_count": 5,
     "metadata": {},
     "output_type": "execute_result"
    }
   ],
   "source": [
    "data.write_dynamo(\"C:\\\\Users\\\\peeterm\\\\eclipse-workspace\\\\volTrader\\data\\\\181210 options.csv\", \n",
    "                  \"mktData\", \"CL\")"
   ]
  }
 ],
 "metadata": {
  "kernelspec": {
   "display_name": "Python 2",
   "language": "python",
   "name": "python2"
  },
  "language_info": {
   "codemirror_mode": {
    "name": "ipython",
    "version": 2
   },
   "file_extension": ".py",
   "mimetype": "text/x-python",
   "name": "python",
   "nbconvert_exporter": "python",
   "pygments_lexer": "ipython2",
   "version": "2.7.6"
  }
 },
 "nbformat": 4,
 "nbformat_minor": 0
}
