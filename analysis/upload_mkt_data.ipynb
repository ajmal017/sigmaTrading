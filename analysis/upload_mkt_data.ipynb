{
 "cells": [
  {
   "cell_type": "heading",
   "metadata": {
    "collapsed": true
   },
   "level": 1,
   "source": [
    "Uploads market data snapshot to Dynamo DB\n"
   ]
  },
  {
   "cell_type": "code",
   "execution_count": 1,
   "metadata": {
    "collapsed": false
   },
   "outputs": [],
   "source": [
    "from utils import data"
   ]
  },
  {
   "cell_type": "code",
   "execution_count": 19,
   "metadata": {
    "collapsed": false
   },
   "outputs": [
    {
     "data": {
      "text/plain": [
       "{'ResponseMetadata': {'HTTPHeaders': {'connection': 'keep-alive',\n   'content-length': '2',\n   'content-type': 'application/x-amz-json-1.0',\n   'date': 'Wed, 12 Dec 2018 13:44:06 GMT',\n   'server': 'Server',\n   'x-amz-crc32': '2745614147',\n   'x-amzn-requestid': 'OE37EL8NQ98GMPAP6TIELQ86H7VV4KQNSO5AEMVJF66Q9ASUAAJG'},\n  'HTTPStatusCode': 200,\n  'RequestId': 'OE37EL8NQ98GMPAP6TIELQ86H7VV4KQNSO5AEMVJF66Q9ASUAAJG',\n  'RetryAttempts': 0}}"
      ]
     },
     "execution_count": 19,
     "metadata": {},
     "output_type": "execute_result"
    }
   ],
   "source": [
    "data.write_dynamo(\"C:\\\\Users\\\\peeterm\\\\eclipse-workspace\\\\volTrader\\data\\\\181212 options.csv\", \"mktData\", \"CL\")"
   ]
  }
 ],
 "metadata": {
  "kernelspec": {
   "display_name": "Python 2",
   "language": "python",
   "name": "python2"
  },
  "language_info": {
   "codemirror_mode": {
    "name": "ipython",
    "version": 2
   },
   "file_extension": ".py",
   "mimetype": "text/x-python",
   "name": "python",
   "nbconvert_exporter": "python",
   "pygments_lexer": "ipython2",
   "version": "2.7.6"
  }
 },
 "nbformat": 4,
 "nbformat_minor": 0
}
