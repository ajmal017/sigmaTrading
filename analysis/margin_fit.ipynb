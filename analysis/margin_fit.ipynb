{
 "cells": [
  {
   "cell_type": "heading",
   "metadata": {
    "collapsed": true
   },
   "level": 1,
   "source": [
    "Estimation of instrument margins based on past data"
   ]
  },
  {
   "cell_type": "code",
   "execution_count": 32,
   "metadata": {
    "collapsed": true
   },
   "outputs": [],
   "source": [
    "import boto3\n",
    "from boto3.dynamodb.conditions import Key\n",
    "import json\n",
    "import decimal\n",
    "import matplotlib.pyplot as plt\n",
    "from quant import scaling\n",
    "import pickle\n",
    "from sklearn.neural_network import MLPRegressor\n",
    "import numpy as np\n",
    "import pandas as pd"
   ]
  },
  {
   "cell_type": "heading",
   "metadata": {
    "collapsed": true
   },
   "level": 3,
   "source": [
    "Helper class to convert a DynamoDB item to JSON\n"
   ]
  },
  {
   "cell_type": "code",
   "execution_count": 27,
   "metadata": {
    "collapsed": true
   },
   "outputs": [],
   "source": [
    "class DecimalEncoder(json.JSONEncoder):\n",
    "    def default(self, o):\n",
    "        if isinstance(o, decimal.Decimal):\n",
    "            return str(o)\n",
    "        return super(DecimalEncoder, self).default(o)\n"
   ]
  },
  {
   "cell_type": "heading",
   "metadata": {
    "collapsed": true
   },
   "level": 2,
   "source": [
    "Get the data from Dynamo DB\n"
   ]
  },
  {
   "cell_type": "code",
   "execution_count": 76,
   "metadata": {
    "collapsed": true
   },
   "outputs": [],
   "source": [
    "inst = \"CL\"\n",
    "tbl = \"margin\"\n",
    "dynamodb = boto3.resource('dynamodb', region_name='us-east-1',\n",
    "                          endpoint_url=\"https://dynamodb.us-east-1.amazonaws.com\")\n",
    "table = dynamodb.Table(tbl)\n",
    "j = table.query(KeyConditionExpression=Key(\"inst\").eq(inst)) \n",
    "\n",
    "frames = []\n",
    "for i in j[\"Items\"]:\n",
    "    df = json.dumps(i[\"data\"], cls=DecimalEncoder)\n",
    "    frames.append(pd.read_json(df, orient=\"records\"))\n",
    "#df = pd.concat(frames)\n",
    "df = frames[0]\n"
   ]
  },
  {
   "cell_type": "heading",
   "metadata": {},
   "level": 2,
   "source": [
    "Transform the data"
   ]
  },
  {
   "cell_type": "code",
   "execution_count": 77,
   "metadata": {},
   "outputs": [],
   "source": [
    "df = df[df[\"days\"] < 1000]\n",
    "df[\"num_side\"] = np.where(df[\"side\"] == \"P\", -1, 1)\n",
    "\n",
    "df[\"Mny\"] = df[\"num_side\"] * np.log(df[\"ulPrice\"] / df[\"strike\"])\n",
    "df[\"Diff\"] = df[\"num_side\"] * (df[\"strike\"] - df[\"ulPrice\"])\n"
   ]
  },
  {
   "cell_type": "heading",
   "metadata": {},
   "level": 3,
   "source": [
    "Scaling\n"
   ]
  },
  {
   "cell_type": "code",
   "execution_count": 78,
   "metadata": {},
   "outputs": [],
   "source": [
    "df[\"Days scaled\"] = df[\"days\"] / 365\n",
    "df[\"SI Scaled\"] = scaling.scale11(df[\"marginShort\"])\n",
    "df[\"LI Scaled\"] = scaling.scale11(df[\"marginLong\"])\n",
    "df = df.dropna()\n"
   ]
  },
  {
   "cell_type": "heading",
   "metadata": {},
   "level": 3,
   "source": [
    "We need some matrices\n"
   ]
  },
  {
   "cell_type": "code",
   "execution_count": 79,
   "metadata": {},
   "outputs": [],
   "source": [
    "x_train = df[[\"Mny\", \"Days scaled\", \"delta\"]].as_matrix()\n",
    "y_train_l = df[\"LI Scaled\"].as_matrix()\n",
    "y_train_s = df[\"SI Scaled\"].as_matrix()\n"
   ]
  },
  {
   "cell_type": "heading",
   "metadata": {},
   "level": 2,
   "source": [
    "Fit the neural nets for long and short margins\n"
   ]
  },
  {
   "cell_type": "code",
   "execution_count": 80,
   "metadata": {},
   "outputs": [],
   "source": [
    "nnet_si = MLPRegressor(hidden_layer_sizes=(20, 20, 10),\n",
    "                       learning_rate_init=0.05,\n",
    "                       max_iter=500,\n",
    "                       solver=\"lbfgs\",\n",
    "                       activation=\"tanh\")\n",
    "nnet_li = MLPRegressor(hidden_layer_sizes=(20, 20, 10),\n",
    "                       learning_rate_init=0.05,\n",
    "                       max_iter=500,\n",
    "                       solver=\"lbfgs\",\n",
    "                       activation=\"tanh\")\n",
    "res_s = nnet_si.fit(x_train, y_train_s)\n",
    "res_l = nnet_li.fit(x_train, y_train_l)\n"
   ]
  },
  {
   "cell_type": "code",
   "execution_count": 81,
   "metadata": {},
   "outputs": [],
   "source": [
    "y_pred_l = nnet_li.predict(x_train)\n",
    "y_pred_s = nnet_si.predict(x_train)"
   ]
  },
  {
   "cell_type": "heading",
   "metadata": {},
   "level": 2,
   "source": [
    "Save the models to S3"
   ]
  },
  {
   "cell_type": "code",
   "execution_count": 66,
   "metadata": {},
   "outputs": [],
   "source": [
    "s3 = \"sigma.bucket\"\n",
    "limits = {\"short_min\": min(df[\"marginShort\"]),\n",
    "          \"short_max\": max(df[\"marginShort\"]),\n",
    "          \"long_min\": min(df[\"marginLong\"]),\n",
    "          \"long_max\": max(df[\"marginLong\"])}\n",
    "fit = {\"limits\": limits,\n",
    "       \"long\": nnet_si,\n",
    "       \"short\": nnet_li}\n",
    "\n",
    "b = boto3.resource('s3')\n",
    "o = b.Object(s3, 'fit.data')\n",
    "response = o.put(Body=pickle.dumps(fit))\n"
   ]
  },
  {
   "cell_type": "heading",
   "metadata": {},
   "level": 2,
   "source": [
    "Plot the results"
   ]
  },
  {
   "cell_type": "heading",
   "metadata": {},
   "level": 2,
   "source": [
    "Short margin accuracy\n"
   ]
  },
  {
   "cell_type": "code",
   "execution_count": 82,
   "metadata": {},
   "outputs": [
    {
     "data": {
      "image/png": "[encoded data removed]",
      "text/plain": [
       "<matplotlib.figure.Figure at 0x2984875a710>"
      ]
     },
     "metadata": {},
     "output_type": "display_data"
    }
   ],
   "source": [
    "%matplotlib inline\n",
    "plt.figure()\n",
    "plt.plot(y_train_s, y_pred_s, \"bo\")\n",
    "plt.xlabel(\"train\")\n",
    "plt.ylabel(\"pred\")\n",
    "plt.title(\"Training accuracy\")\n",
    "plt.show()\n"
   ]
  },
  {
   "cell_type": "heading",
   "metadata": {},
   "level": 2,
   "source": [
    "Long margin accuracy"
   ]
  },
  {
   "cell_type": "code",
   "execution_count": null,
   "metadata": {},
   "outputs": [
    {
     "data": {
      "image/png": "[encoded data removed]",
      "text/plain": [
       "<matplotlib.figure.Figure at 0x298481c6208>"
      ]
     },
     "metadata": {},
     "output_type": "display_data"
    }
   ],
   "source": [
    "%matplotlib inline\n",
    "plt.figure()\n",
    "plt.plot(y_train_l, y_pred_l, \"bo\")\n",
    "plt.xlabel(\"train\")\n",
    "plt.ylabel(\"pred\")\n",
    "plt.title(\"Training accuracy\")\n",
    "plt.show()\n"
   ]
  }
 ],
 "metadata": {
  "kernelspec": {
   "display_name": "Python 2",
   "language": "python",
   "name": "python2"
  },
  "language_info": {
   "codemirror_mode": {
    "name": "ipython",
    "version": 2
   },
   "file_extension": ".py",
   "mimetype": "text/x-python",
   "name": "python",
   "nbconvert_exporter": "python",
   "pygments_lexer": "ipython2",
   "version": "2.7.6"
  }
 },
 "nbformat": 4,
 "nbformat_minor": 0
}
