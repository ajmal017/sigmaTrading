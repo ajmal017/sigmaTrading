{
 "cells": [
  {
   "cell_type": "code",
   "execution_count": 1,
   "metadata": {
    "collapsed": true
   },
   "outputs": [
    {
     "name": "stdout",
     "output_type": "stream",
     "text": [
      "--- Warning: The GAMS version (24.3.3) differs from the API version (25.1.3).\n"
     ]
    }
   ],
   "source": [
    "from optimiser import Optimiser\n",
    "\n",
    "o = Optimiser(\"config.cf\")"
   ]
  },
  {
   "cell_type": "code",
   "execution_count": 2,
   "metadata": {},
   "outputs": [
    {
     "name": "stdout",
     "output_type": "stream",
     "text": [
      "2018-12-13 15:13:29.837422:normal:Optimiser:Preparing optimiser input\n"
     ]
    },
    {
     "name": "stdout",
     "output_type": "stream",
     "text": [
      "2018-12-13 15:13:31.319975:normal:Optimiser:Running GAMS job\n"
     ]
    },
    {
     "name": "stdout",
     "output_type": "stream",
     "text": [
      "2018-12-13 15:13:35.896759:normal:Optimiser:Importing from _gams_py_gdb1.gdx\n2018-12-13 15:13:35.990795:normal:Optimiser:Objective function value -130.96050000000002\n"
     ]
    }
   ],
   "source": [
    "o.get_mkt_data_dynamo()\n"
   ]
  },
  {
   "cell_type": "code",
   "execution_count": null,
   "metadata": {},
   "outputs": [
    {
     "name": "stdout",
     "output_type": "stream",
     "text": [
      "2018-12-13 15:13:29.837422:normal:Optimiser:Preparing optimiser input\n"
     ]
    },
    {
     "name": "stdout",
     "output_type": "stream",
     "text": [
      "2018-12-13 15:13:31.319975:normal:Optimiser:Running GAMS job\n"
     ]
    },
    {
     "name": "stdout",
     "output_type": "stream",
     "text": [
      "2018-12-13 15:13:35.896759:normal:Optimiser:Importing from _gams_py_gdb1.gdx\n2018-12-13 15:13:35.990795:normal:Optimiser:Objective function value -130.96050000000002\n"
     ]
    }
   ],
   "source": [
    "o.get_mkt_data_csv(\"data/181211 options.csv\")\n"
   ]
  },
  {
   "cell_type": "code",
   "execution_count": 3,
   "metadata": {},
   "outputs": [
    {
     "name": "stdout",
     "output_type": "stream",
     "text": [
      "2018-12-13 15:13:29.837422:normal:Optimiser:Preparing optimiser input\n"
     ]
    },
    {
     "name": "stdout",
     "output_type": "stream",
     "text": [
      "2018-12-13 15:13:31.319975:normal:Optimiser:Running GAMS job\n"
     ]
    },
    {
     "name": "stdout",
     "output_type": "stream",
     "text": [
      "2018-12-13 15:13:35.896759:normal:Optimiser:Importing from _gams_py_gdb1.gdx\n2018-12-13 15:13:35.990795:normal:Optimiser:Objective function value -130.96050000000002\n"
     ]
    }
   ],
   "source": [
    "o.create_gdx()\n",
    "o.run_gams()\n",
    "d = o.import_gdx()    "
   ]
  },
  {
   "cell_type": "code",
   "execution_count": null,
   "metadata": {},
   "outputs": [
    {
     "name": "stdout",
     "output_type": "stream",
     "text": [
      "2018-12-13 15:13:29.837422:normal:Optimiser:Preparing optimiser input\n"
     ]
    },
    {
     "name": "stdout",
     "output_type": "stream",
     "text": [
      "2018-12-13 15:13:31.319975:normal:Optimiser:Running GAMS job\n"
     ]
    },
    {
     "name": "stdout",
     "output_type": "stream",
     "text": [
      "2018-12-13 15:13:35.896759:normal:Optimiser:Importing from _gams_py_gdb1.gdx\n2018-12-13 15:13:35.990795:normal:Optimiser:Objective function value -130.96050000000002\n"
     ]
    }
   ],
   "source": [
    "o.export_results_dynamo(\"optResults\", d)\n"
   ]
  },
  {
   "cell_type": "code",
   "execution_count": null,
   "metadata": {},
   "outputs": [
    {
     "name": "stdout",
     "output_type": "stream",
     "text": [
      "2018-12-13 15:13:29.837422:normal:Optimiser:Preparing optimiser input\n"
     ]
    },
    {
     "name": "stdout",
     "output_type": "stream",
     "text": [
      "2018-12-13 15:13:31.319975:normal:Optimiser:Running GAMS job\n"
     ]
    },
    {
     "name": "stdout",
     "output_type": "stream",
     "text": [
      "2018-12-13 15:13:35.896759:normal:Optimiser:Importing from _gams_py_gdb1.gdx\n2018-12-13 15:13:35.990795:normal:Optimiser:Objective function value -130.96050000000002\n"
     ]
    }
   ],
   "source": [
    "o.export_trades_csv(\"./data/basket.csv\")"
   ]
  }
 ],
 "metadata": {
  "kernelspec": {
   "display_name": "Python 2",
   "language": "python",
   "name": "python2"
  },
  "language_info": {
   "codemirror_mode": {
    "name": "ipython",
    "version": 2
   },
   "file_extension": ".py",
   "mimetype": "text/x-python",
   "name": "python",
   "nbconvert_exporter": "python",
   "pygments_lexer": "ipython2",
   "version": "2.7.6"
  }
 },
 "nbformat": 4,
 "nbformat_minor": 0
}
